{
 "cells": [
  {
   "cell_type": "markdown",
   "id": "b0422b52-9da6-48aa-bdd5-e20143f5be3a",
   "metadata": {},
   "source": [
    "# MS 263 Data Analysis Final Project"
   ]
  },
  {
   "cell_type": "markdown",
   "id": "4bab54eb-52b5-4992-836e-e55d008a2026",
   "metadata": {},
   "source": [
    "## Introduction"
   ]
  },
  {
   "cell_type": "markdown",
   "id": "1bcc14a5-7caa-49ad-8996-c7ed5862e091",
   "metadata": {},
   "source": [
    "In November and December of 2014, Dr. Amanda Kahn and colleagues executed a series of ROV dives located west of Vancouver, BC in the Strait of Georgia over the Fraser Ridge Reef (Fig. 1). This location was of specific interest because it is the home to a glass sponge reef. Glass sponges are a class of sponges that are made of four- and six-sided spicules made of silica. They are extremely fragile and the only known reefs exist off the coast of British Columbia and Washington. Prior to their discovery in 1987, sponge reefs were thought to have gone extinct during the Jurassic period (Conway et al., 1991). Sponges are filter feeders and their presence in dense numbers acts to slow currents in the water column. This causes sediment to fall out of the water column and build up around the reef, providing habitat and protection for marine organisms (Krautter et al., 2006). Because of their importance and rarity, Dr. Kahn was curious how the water quality above these reefs changes compared to the water surrounding the reefs. Sponges intake water through the ostia located throughout their body and expel it vertically through the osculum after filtering out food. As a product of this process, the water above sponge reefs is likely to differ in its characteristics from water that is not filtered. Because of the importance of sponge reefs for other organisms, knowing the quality of the water above the reef can have implications for species health and composition. \n",
    "\n",
    "In order to answer the question of whether or not water characteristics differ over glass sponge reefs, data from the ROV dives mentioned above can be compared, since some of the  transects followed were over glass sponge reefs while others were not. The ROV dives output three different sets of data. There were dive annotations, which gave qualitative observations along with specific times, latitudes, longitudes, and depths at which these observations occurred. CTD data was also collected giving a specific date, time, and depth as well as water temperature, salinity, oxygen concentration, and pressure. Finally, navigation data from the ROV was also recorded, giving specific information regarding date, time, depth, latitude, longitude, and various ROV velocity and heading data. The navigation data recorded five observations per second, the CTD data recorded one observation per second, and the dive annotations were done qualitatively whenever something of note happened during the dive. In total, nine transects were executed over seven dives. \n"
   ]
  },
  {
   "cell_type": "code",
   "execution_count": null,
   "id": "b4a9a590-22fe-4651-98b6-feb796f1e335",
   "metadata": {},
   "outputs": [],
   "source": [
    "extent = [-122.3, -121.6, 36.5, 37]\n",
    "plt.figure()\n",
    "ax = make_map(ccrs.Mercator())\n",
    "ax.set_extent(extent)\n",
    "#ax.coastlines()\n",
    "ax.coastlines('10m')"
   ]
  },
  {
   "cell_type": "markdown",
   "id": "97f099f2-5c3a-4d55-97c4-b0745db77830",
   "metadata": {},
   "source": [
    "Figure 1. Map of the Strait of Georgia, with the red star indicating the transects' location on and around the Fraser Ridge Glass Sponge Reef."
   ]
  },
  {
   "cell_type": "markdown",
   "id": "aa21d0f3-5605-47af-940e-233c9093706a",
   "metadata": {},
   "source": [
    "## Methods"
   ]
  },
  {
   "cell_type": "markdown",
   "id": "55f53a5d-1d9c-4ee2-9d78-30970cd7e5b6",
   "metadata": {},
   "source": [
    "Transects 1, 2, 3, and 6 were above a glass sponge reef, transects 4, 5, and 8 were above sediment surrounding the reef (non-reef), and transects 7 and 9 were cross-reef transects partially going over a glass sponge reef. "
   ]
  },
  {
   "cell_type": "markdown",
   "id": "46bbe42d-aec1-4a5c-abad-f4528a267c63",
   "metadata": {},
   "source": [
    "## Results"
   ]
  },
  {
   "cell_type": "markdown",
   "id": "5acf6eb9-f131-4a0f-9afc-5918fa558981",
   "metadata": {},
   "source": [
    "### Import Packages"
   ]
  },
  {
   "cell_type": "code",
   "execution_count": null,
   "id": "2b0053f2-4fd9-4534-87b7-2dd26a3224f6",
   "metadata": {},
   "outputs": [],
   "source": [
    "!pip install maptools"
   ]
  },
  {
   "cell_type": "code",
   "execution_count": 1,
   "id": "968623f5-8983-4c4b-9630-395a95cd4bb9",
   "metadata": {},
   "outputs": [
    {
     "ename": "ImportError",
     "evalue": "cannot import name 'make_map' from 'maptools' (/opt/miniconda3/lib/python3.8/site-packages/maptools/__init__.py)",
     "output_type": "error",
     "traceback": [
      "\u001b[0;31m---------------------------------------------------------------------------\u001b[0m",
      "\u001b[0;31mImportError\u001b[0m                               Traceback (most recent call last)",
      "\u001b[0;32m<ipython-input-1-64999c698379>\u001b[0m in \u001b[0;36m<module>\u001b[0;34m\u001b[0m\n\u001b[1;32m     10\u001b[0m \u001b[0;32mimport\u001b[0m \u001b[0mxarray\u001b[0m \u001b[0;32mas\u001b[0m \u001b[0mxr\u001b[0m\u001b[0;34m\u001b[0m\u001b[0;34m\u001b[0m\u001b[0m\n\u001b[1;32m     11\u001b[0m \u001b[0;32mimport\u001b[0m \u001b[0mcartopy\u001b[0m\u001b[0;34m.\u001b[0m\u001b[0mcrs\u001b[0m \u001b[0;32mas\u001b[0m \u001b[0mccrs\u001b[0m\u001b[0;34m\u001b[0m\u001b[0;34m\u001b[0m\u001b[0m\n\u001b[0;32m---> 12\u001b[0;31m \u001b[0;32mfrom\u001b[0m \u001b[0mmaptools\u001b[0m \u001b[0;32mimport\u001b[0m \u001b[0mmake_map\u001b[0m\u001b[0;34m\u001b[0m\u001b[0;34m\u001b[0m\u001b[0m\n\u001b[0m",
      "\u001b[0;31mImportError\u001b[0m: cannot import name 'make_map' from 'maptools' (/opt/miniconda3/lib/python3.8/site-packages/maptools/__init__.py)"
     ]
    }
   ],
   "source": [
    "import pandas as pd\n",
    "import numpy as np\n",
    "from make_pca import make_pca\n",
    "from make_plots import make_plots\n",
    "from create_datasets import create_datasets\n",
    "from scipy import stats\n",
    "import statsmodels.api as sm\n",
    "import statsmodels.formula.api as smf\n",
    "from matplotlib import pyplot as plt\n",
    "import xarray as xr\n",
    "import cartopy.crs as ccrs\n",
    "from maptools import make_map"
   ]
  },
  {
   "cell_type": "markdown",
   "id": "67329ee4-98ca-4948-b98a-2111aa67e6f8",
   "metadata": {},
   "source": [
    "### Read in data"
   ]
  },
  {
   "cell_type": "code",
   "execution_count": null,
   "id": "2732758e-7fae-4d51-8a82-9aee7fcf621e",
   "metadata": {},
   "outputs": [],
   "source": [
    "df = pd.read_csv(\"alltransects.csv\")\n",
    "df.columns\n",
    "conditions = [(df['transect'] == 1) | (df['transect'] == 2) | (df['transect'] == 3) | (df['transect'] == 6),\n",
    "(df['transect'] == 4) | (df['transect'] == 5) | (df['transect'] == 8), (df['transect'] == 9) | (df['transect'] == 7)]\n",
    "values = ['on', 'off', 'cross']\n",
    "df['reef'] = np.select(conditions, values)"
   ]
  },
  {
   "cell_type": "markdown",
   "id": "00bc1857-e836-44c9-a416-da9e27012a4b",
   "metadata": {},
   "source": [
    "### Make Figures for each transect ( How to facet by transect and on/off reef?)"
   ]
  },
  {
   "cell_type": "code",
   "execution_count": null,
   "id": "c1247ac0-51ec-4f4c-967f-e1134b3eed01",
   "metadata": {
    "tags": []
   },
   "outputs": [],
   "source": [
    "for i in np.unique(df['transect']):\n",
    "    transect_sub, oxy_interp_linear, oxy_interp_cubic, min_oxy, max_oxy = create_datasets(df, i, 'oxygen')\n",
    "    make_plots(transect_sub, oxy_interp_linear, oxy_interp_cubic, i, 'oxygen', min_oxy, max_oxy)"
   ]
  },
  {
   "cell_type": "markdown",
   "id": "a67767fb-a323-4a39-81ab-0e8c4477c0a0",
   "metadata": {},
   "source": [
    "### PCA"
   ]
  },
  {
   "cell_type": "code",
   "execution_count": null,
   "id": "cf78301c-7bd0-4600-8ff3-40dc2ead7e50",
   "metadata": {},
   "outputs": [],
   "source": [
    "from make_pca import make_pca\n",
    "make_pca(df, ['temp', 'salinity', 'oxygen'])"
   ]
  },
  {
   "cell_type": "markdown",
   "id": "e5d6c924-7b12-4fba-94c1-1b972effb920",
   "metadata": {},
   "source": [
    "### Generalized Linear Models"
   ]
  },
  {
   "cell_type": "code",
   "execution_count": null,
   "id": "0e4e1d5e-0af2-416c-8d87-da5c7ed7d40b",
   "metadata": {},
   "outputs": [],
   "source": [
    "model1 = smf.ols('oxygen ~ 1 + depth + reef', data = df).fit()\n",
    "model1.summary()"
   ]
  },
  {
   "cell_type": "code",
   "execution_count": null,
   "id": "a6b15035-e3f1-4b93-8736-d341099b89b2",
   "metadata": {},
   "outputs": [],
   "source": [
    "model2 = smf.ols('oxygen ~ 1 + reef + depth + temp + salinity', data = df).fit()\n",
    "model2.summary()"
   ]
  },
  {
   "cell_type": "markdown",
   "id": "9c8cd59a-db83-4ecf-867b-a7c55228e4df",
   "metadata": {},
   "source": [
    "## Conclusions"
   ]
  },
  {
   "cell_type": "markdown",
   "id": "77626cee-a306-4dfa-bba4-b9562f27939a",
   "metadata": {},
   "source": [
    "Over Glass sponge reef --> less oxygen!! "
   ]
  },
  {
   "cell_type": "markdown",
   "id": "37a6b429-7938-4408-ba9c-a05d044543ef",
   "metadata": {},
   "source": [
    "## Future Work and Limitations"
   ]
  },
  {
   "cell_type": "markdown",
   "id": "bc8f0d4f-e314-4d5c-b1d0-bf12d293ba7f",
   "metadata": {},
   "source": [
    "There are clear limitations in the cubic spline and linear interpolation techniques that cause the data to appear skewed. Cubic spline interpolation is susceptible to over-estimations in areas where there is not nearby data collection. This can be seen in the cubic spline interpolation figures where oxygen content higher than any of the data points are seen in the interpolation areas that are far from data collection locations. Linear interpolation fills in the space between data points in a way that makes more sense (no overestimations), but is still not the most accurate interpolation method. WHY NOT. \n",
    "\n",
    "There are two alternative approaches that remedy the visualization problem. The first lies within data collection techniques. As seen in the figures, data across different transects was not collected at uniform depths. Interpolation must be conducted across far vertical and horizontal distances, making visualizations appear messy and potentially inaccurate. In the future, I recommend that data is collected at a uniform depth across all transects. This will also remove depth as a potential predictor for oxygen content between different transects. In transect 8, you can see the data was collected at relatively regular depth intervals (all of which are less than 3.5 m above the seafloor). This has reduced the amount of overestimation that the cubic spline interpolation has done. \n",
    "\n",
    "Another solution would be to use the kriging interpolation technique. This technique is difficult to utilize in Python, but would likely be more accurate than the cubic spline and linear interpolations. KRIGING THEORY"
   ]
  },
  {
   "cell_type": "markdown",
   "id": "1a6e09de-f39f-4f1e-acef-7388b7b6823c",
   "metadata": {},
   "source": [
    "## References"
   ]
  },
  {
   "cell_type": "markdown",
   "id": "3153dc2f-e0c5-4970-8e11-9d86189d6892",
   "metadata": {},
   "source": [
    "Need to reference: matplotlib, scipy, numpy, pandas, physoce + papers"
   ]
  },
  {
   "cell_type": "code",
   "execution_count": null,
   "id": "2b3a7401-6f90-4634-a30b-285fd060402f",
   "metadata": {},
   "outputs": [],
   "source": []
  },
  {
   "cell_type": "code",
   "execution_count": null,
   "id": "c7d005d7-b895-4f6f-b5b1-256c26dcac49",
   "metadata": {},
   "outputs": [],
   "source": []
  },
  {
   "cell_type": "code",
   "execution_count": null,
   "id": "515f4adf-ef6e-4fd2-a567-291f67330794",
   "metadata": {},
   "outputs": [],
   "source": [
    "z, ss = kriging.execute(\"grid\", gridx, gridy)"
   ]
  },
  {
   "cell_type": "code",
   "execution_count": null,
   "id": "92370de6-f68e-46e0-8277-8e42d318b570",
   "metadata": {},
   "outputs": [],
   "source": [
    "kt.write_asc_grid(gridx, gridy, z, filename=\"output.asc\")\n",
    "plt.imshow(z)\n",
    "plt.show()"
   ]
  },
  {
   "cell_type": "code",
   "execution_count": null,
   "id": "cceab373-f997-42da-81a0-4ba841906fa6",
   "metadata": {},
   "outputs": [],
   "source": []
  },
  {
   "cell_type": "code",
   "execution_count": null,
   "id": "5415335b-83db-4e91-803a-1e71468ec530",
   "metadata": {},
   "outputs": [],
   "source": []
  },
  {
   "cell_type": "code",
   "execution_count": null,
   "id": "ddc01810-e435-4a65-9909-31a84bade6c1",
   "metadata": {},
   "outputs": [],
   "source": [
    "help(ok)"
   ]
  },
  {
   "cell_type": "code",
   "execution_count": null,
   "id": "caff8241-cf3b-43a3-a648-7afea28a2bab",
   "metadata": {},
   "outputs": [],
   "source": [
    "df.head"
   ]
  },
  {
   "cell_type": "code",
   "execution_count": null,
   "id": "257897cb-0288-46af-ab79-4fa57c4fc01b",
   "metadata": {},
   "outputs": [],
   "source": []
  }
 ],
 "metadata": {
  "kernelspec": {
   "display_name": "Python 3",
   "language": "python",
   "name": "python3"
  },
  "language_info": {
   "codemirror_mode": {
    "name": "ipython",
    "version": 3
   },
   "file_extension": ".py",
   "mimetype": "text/x-python",
   "name": "python",
   "nbconvert_exporter": "python",
   "pygments_lexer": "ipython3",
   "version": "3.8.5"
  }
 },
 "nbformat": 4,
 "nbformat_minor": 5
}
